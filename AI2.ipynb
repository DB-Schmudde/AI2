{
  "nbformat": 4,
  "nbformat_minor": 0,
  "metadata": {
    "colab": {
      "provenance": [],
      "authorship_tag": "ABX9TyOHbTtQ1m3gsRYg1dFjXttn",
      "include_colab_link": true
    },
    "kernelspec": {
      "name": "python3",
      "display_name": "Python 3"
    },
    "language_info": {
      "name": "python"
    }
  },
  "cells": [
    {
      "cell_type": "markdown",
      "metadata": {
        "id": "view-in-github",
        "colab_type": "text"
      },
      "source": [
        "<a href=\"https://colab.research.google.com/github/DB-Schmudde/AI2/blob/main/AI2.ipynb\" target=\"_parent\"><img src=\"https://colab.research.google.com/assets/colab-badge.svg\" alt=\"Open In Colab\"/></a>"
      ]
    },
    {
      "cell_type": "code",
      "execution_count": null,
      "metadata": {
        "colab": {
          "base_uri": "https://localhost:8080/"
        },
        "id": "Mk8W-2o2BLQC",
        "outputId": "ebdfc136-be5a-4202-e3f2-78a54607b2f5"
      },
      "outputs": [
        {
          "output_type": "stream",
          "name": "stdout",
          "text": [
            "Requirement already satisfied: optuna in /usr/local/lib/python3.10/dist-packages (4.1.0)\n",
            "Requirement already satisfied: alembic>=1.5.0 in /usr/local/lib/python3.10/dist-packages (from optuna) (1.14.0)\n",
            "Requirement already satisfied: colorlog in /usr/local/lib/python3.10/dist-packages (from optuna) (6.9.0)\n",
            "Requirement already satisfied: numpy in /usr/local/lib/python3.10/dist-packages (from optuna) (1.26.4)\n",
            "Requirement already satisfied: packaging>=20.0 in /usr/local/lib/python3.10/dist-packages (from optuna) (24.2)\n",
            "Requirement already satisfied: sqlalchemy>=1.4.2 in /usr/local/lib/python3.10/dist-packages (from optuna) (2.0.36)\n",
            "Requirement already satisfied: tqdm in /usr/local/lib/python3.10/dist-packages (from optuna) (4.67.1)\n",
            "Requirement already satisfied: PyYAML in /usr/local/lib/python3.10/dist-packages (from optuna) (6.0.2)\n",
            "Requirement already satisfied: Mako in /usr/local/lib/python3.10/dist-packages (from alembic>=1.5.0->optuna) (1.3.8)\n",
            "Requirement already satisfied: typing-extensions>=4 in /usr/local/lib/python3.10/dist-packages (from alembic>=1.5.0->optuna) (4.12.2)\n",
            "Requirement already satisfied: greenlet!=0.4.17 in /usr/local/lib/python3.10/dist-packages (from sqlalchemy>=1.4.2->optuna) (3.1.1)\n",
            "Requirement already satisfied: MarkupSafe>=0.9.2 in /usr/local/lib/python3.10/dist-packages (from Mako->alembic>=1.5.0->optuna) (3.0.2)\n"
          ]
        }
      ],
      "source": [
        "!pip install optuna"
      ]
    },
    {
      "cell_type": "code",
      "source": [
        "import torch.nn as nn\n",
        "import torch\n",
        "import torch.nn.functional as F\n",
        "import torchvision\n",
        "import torchvision.transforms as transforms\n",
        "from optuna import trial\n",
        "import numpy as np\n",
        "from tqdm import tqdm\n",
        "import optuna\n",
        "\n",
        "num_epochs = 3\n",
        "\n",
        "BATCH_SIZE = 64\n",
        "\n",
        "train_dataset = torchvision.datasets.MNIST(root='./data',\n",
        "                                           download=True,\n",
        "                                           train=True,\n",
        "                                           transform=transforms.ToTensor())\n",
        "\n",
        "test_dataset = torchvision.datasets.MNIST(root='./data',\n",
        "                                          download=True,\n",
        "                                          transform=transforms.ToTensor())\n"
      ],
      "metadata": {
        "id": "hF2HNpKJEBwd"
      },
      "execution_count": null,
      "outputs": []
    },
    {
      "cell_type": "code",
      "source": [
        "train_loader = torch.utils.data.DataLoader(train_dataset,batch_size=BATCH_SIZE,shuffle=True)\n",
        "test_loader = torch.utils.data.DataLoader(test_dataset,batch_size=BATCH_SIZE)"
      ],
      "metadata": {
        "id": "7P5WHOnPHqHH"
      },
      "execution_count": null,
      "outputs": []
    },
    {
      "cell_type": "code",
      "source": [
        "def objective(trial):\n",
        "  n_layers = trial.suggest_int('layers',1,5)\n",
        "  hidden_size = trial.suggest_int('nodes',50,200)\n",
        "  num_classes = 10\n",
        "  input_size = 784\n",
        "  lr = trial.suggest_float('learning_rate',1e-4,1e-3)\n",
        "\n",
        "  class Model(nn.Module):\n",
        "    def __init__(self, input_size, hidden_size, num_classes):\n",
        "      super().__init__()\n",
        "\n",
        "      self.input_size = input_size\n",
        "      self.l1 = nn.Linear(self.input_size, hidden_size)\n",
        "      self.l2 = nn.Linear(hidden_size, hidden_size)\n",
        "      self.l3 = nn.Linear(hidden_size, num_classes)\n",
        "\n",
        "      def forward(self,x):\n",
        "        out = self.l1(x)\n",
        "        for i in range(n_layers):\n",
        "          out = torch.nn.ReLU()(self.l2(out))\n",
        "        out = self.l3(out)\n",
        "        return out\n",
        "\n",
        "        model = Model(input_size, hidden_size, num_classes).cuda()\n",
        "\n",
        "        criterion = nn.CrossEntropyLoss()\n",
        "        optimizer = torch.optim.Adam(model.parameters(),lr = lr)\n",
        "\n",
        "        for epoch in range(num_epochs):\n",
        "          ep_loss = 0.0\n",
        "          for batch in tqdm(train_loader):\n",
        "            images, labels = batch\n",
        "            images = images.reshape(-1,28*28).cuda()\n",
        "            labels = labels.cuda()\n",
        "\n",
        "            out = model(images)\n",
        "            loss = criterion(out, labels)\n",
        "            ep_loss += loss.item()\n",
        "            optimizer.zero_grad()\n",
        "            loss.backward()\n",
        "            optimizer.step()\n",
        "        print(f\"epoch loss was{ep_loss}\")\n",
        "      return ep_loss"
      ],
      "metadata": {
        "id": "SDoK2z58IQa0"
      },
      "execution_count": null,
      "outputs": []
    },
    {
      "cell_type": "code",
      "source": [
        "study = optuna.create_study(direction= \"minimize\")\n",
        "study.optimize(objective, n_trials = 10)\n",
        "\n"
      ],
      "metadata": {
        "colab": {
          "base_uri": "https://localhost:8080/"
        },
        "id": "FJ5FTOsLQNoZ",
        "outputId": "c67caa22-6f10-4fc4-9672-5f9c2ffe335e"
      },
      "execution_count": null,
      "outputs": [
        {
          "output_type": "stream",
          "name": "stderr",
          "text": [
            "[I 2024-12-27 18:00:21,180] A new study created in memory with name: no-name-67ca68ad-0454-4883-8437-c7751fda671a\n",
            "[W 2024-12-27 18:00:21,189] Trial 0 failed with parameters: {'layers': 4, 'nodes': 71, 'learning_rate': 0.0007085678707713514} because of the following error: The value None could not be cast to float..\n",
            "[W 2024-12-27 18:00:21,192] Trial 0 failed with value None.\n",
            "[W 2024-12-27 18:00:21,198] Trial 1 failed with parameters: {'layers': 1, 'nodes': 82, 'learning_rate': 0.0001636707466357294} because of the following error: The value None could not be cast to float..\n",
            "[W 2024-12-27 18:00:21,203] Trial 1 failed with value None.\n",
            "[W 2024-12-27 18:00:21,205] Trial 2 failed with parameters: {'layers': 3, 'nodes': 92, 'learning_rate': 0.00019703699516845067} because of the following error: The value None could not be cast to float..\n",
            "[W 2024-12-27 18:00:21,211] Trial 2 failed with value None.\n",
            "[W 2024-12-27 18:00:21,214] Trial 3 failed with parameters: {'layers': 1, 'nodes': 191, 'learning_rate': 0.0006246205876274112} because of the following error: The value None could not be cast to float..\n",
            "[W 2024-12-27 18:00:21,219] Trial 3 failed with value None.\n",
            "[W 2024-12-27 18:00:21,221] Trial 4 failed with parameters: {'layers': 5, 'nodes': 157, 'learning_rate': 0.0001900965192992634} because of the following error: The value None could not be cast to float..\n",
            "[W 2024-12-27 18:00:21,226] Trial 4 failed with value None.\n",
            "[W 2024-12-27 18:00:21,229] Trial 5 failed with parameters: {'layers': 4, 'nodes': 189, 'learning_rate': 0.00020032691316560272} because of the following error: The value None could not be cast to float..\n",
            "[W 2024-12-27 18:00:21,244] Trial 5 failed with value None.\n",
            "[W 2024-12-27 18:00:21,247] Trial 6 failed with parameters: {'layers': 1, 'nodes': 57, 'learning_rate': 0.00012325312759338072} because of the following error: The value None could not be cast to float..\n",
            "[W 2024-12-27 18:00:21,248] Trial 6 failed with value None.\n",
            "[W 2024-12-27 18:00:21,251] Trial 7 failed with parameters: {'layers': 2, 'nodes': 109, 'learning_rate': 0.0008095981709106249} because of the following error: The value None could not be cast to float..\n",
            "[W 2024-12-27 18:00:21,253] Trial 7 failed with value None.\n",
            "[W 2024-12-27 18:00:21,256] Trial 8 failed with parameters: {'layers': 1, 'nodes': 95, 'learning_rate': 0.000583927123435342} because of the following error: The value None could not be cast to float..\n",
            "[W 2024-12-27 18:00:21,258] Trial 8 failed with value None.\n",
            "[W 2024-12-27 18:00:21,260] Trial 9 failed with parameters: {'layers': 5, 'nodes': 152, 'learning_rate': 0.0005068677708104233} because of the following error: The value None could not be cast to float..\n",
            "[W 2024-12-27 18:00:21,262] Trial 9 failed with value None.\n"
          ]
        }
      ]
    },
    {
      "cell_type": "code",
      "source": [],
      "metadata": {
        "id": "eIOpAX-_Q_CB"
      },
      "execution_count": null,
      "outputs": []
    }
  ]
}